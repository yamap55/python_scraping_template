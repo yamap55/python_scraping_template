{
 "cells": [
  {
   "cell_type": "code",
   "execution_count": 1,
   "metadata": {},
   "outputs": [],
   "source": [
    "import requests\n",
    "from bs4 import BeautifulSoup"
   ]
  },
  {
   "cell_type": "code",
   "execution_count": 2,
   "metadata": {},
   "outputs": [
    {
     "data": {
      "text/plain": [
       "<!DOCTYPE html>\n",
       "\n",
       "<html>\n",
       "<head>\n",
       "<title>User List</title>\n",
       "<style>\n",
       "        table {\n",
       "            width: 100%;\n",
       "            border-collapse: collapse;\n",
       "        }\n",
       "\n",
       "        th,\n",
       "        td {\n",
       "            border: 1px solid black;\n",
       "            padding: 8px;\n",
       "            text-align: left;\n",
       "        }\n",
       "\n",
       "        th {\n",
       "            background-color: #f2f2f2;\n",
       "        }\n",
       "    </style>\n",
       "</head>\n",
       "<body>\n",
       "<h1>User List</h1>\n",
       "<table>\n",
       "<tr>\n",
       "<th>ID</th>\n",
       "<th>User Name</th>\n",
       "</tr>\n",
       "<tr>\n",
       "<td>1</td>\n",
       "<td><a href=\"/python_scraping_template/user/user1.html\">User 1</a></td>\n",
       "</tr>\n",
       "<tr>\n",
       "<td>2</td>\n",
       "<td><a href=\"/python_scraping_template/user/user2.html\">User 2</a></td>\n",
       "</tr>\n",
       "<tr>\n",
       "<td>3</td>\n",
       "<td><a href=\"/python_scraping_template/user/user3.html\">User 3</a></td>\n",
       "</tr>\n",
       "</table>\n",
       "<!-- ページネーションリンク -->\n",
       "<div>\n",
       "<a href=\"/python_scraping_template/users/1.html\">1</a>\n",
       "<a href=\"/python_scraping_template/users/2.html\">2</a>\n",
       "<a href=\"/python_scraping_template/users/3.html\">3</a>\n",
       "<a href=\"/python_scraping_template/users/2.html\">次へ</a>\n",
       "</div>\n",
       "</body>\n",
       "</html>"
      ]
     },
     "execution_count": 2,
     "metadata": {},
     "output_type": "execute_result"
    }
   ],
   "source": [
    "response = requests.get(\"https://yamap55.github.io/python_scraping_template/users/1.html\")\n",
    "soup = BeautifulSoup(response.text, \"html.parser\")\n",
    "soup"
   ]
  },
  {
   "cell_type": "code",
   "execution_count": 3,
   "metadata": {},
   "outputs": [
    {
     "data": {
      "text/plain": [
       "<table>\n",
       "<tr>\n",
       "<th>ID</th>\n",
       "<th>User Name</th>\n",
       "</tr>\n",
       "<tr>\n",
       "<td>1</td>\n",
       "<td><a href=\"/python_scraping_template/user/user1.html\">User 1</a></td>\n",
       "</tr>\n",
       "<tr>\n",
       "<td>2</td>\n",
       "<td><a href=\"/python_scraping_template/user/user2.html\">User 2</a></td>\n",
       "</tr>\n",
       "<tr>\n",
       "<td>3</td>\n",
       "<td><a href=\"/python_scraping_template/user/user3.html\">User 3</a></td>\n",
       "</tr>\n",
       "</table>"
      ]
     },
     "execution_count": 3,
     "metadata": {},
     "output_type": "execute_result"
    }
   ],
   "source": [
    "table = soup.find(\"table\")\n",
    "table"
   ]
  },
  {
   "cell_type": "code",
   "execution_count": 4,
   "metadata": {},
   "outputs": [
    {
     "data": {
      "text/plain": [
       "[<tr>\n",
       " <td>1</td>\n",
       " <td><a href=\"/python_scraping_template/user/user1.html\">User 1</a></td>\n",
       " </tr>,\n",
       " <tr>\n",
       " <td>2</td>\n",
       " <td><a href=\"/python_scraping_template/user/user2.html\">User 2</a></td>\n",
       " </tr>,\n",
       " <tr>\n",
       " <td>3</td>\n",
       " <td><a href=\"/python_scraping_template/user/user3.html\">User 3</a></td>\n",
       " </tr>]"
      ]
     },
     "execution_count": 4,
     "metadata": {},
     "output_type": "execute_result"
    }
   ],
   "source": [
    "users = [tr for tr in table.find_all(\"tr\") if tr.find_all(\"td\")] # type: ignore\n",
    "users"
   ]
  },
  {
   "cell_type": "code",
   "execution_count": 5,
   "metadata": {},
   "outputs": [
    {
     "data": {
      "text/plain": [
       "('1', 'User 1', '/python_scraping_template/user/user1.html')"
      ]
     },
     "execution_count": 5,
     "metadata": {},
     "output_type": "execute_result"
    }
   ],
   "source": [
    "user_id_td, user_name_td = (td for td in users[0].find_all(\"td\"))\n",
    "user_id = user_id_td.text\n",
    "user_name = user_name_td.text\n",
    "url = user_name_td.find(\"a\").get(\"href\")\n",
    "\n",
    "user_id, user_name, url"
   ]
  },
  {
   "cell_type": "code",
   "execution_count": 6,
   "metadata": {},
   "outputs": [],
   "source": [
    "from selenium import webdriver\n",
    "from selenium.webdriver.chrome.options import Options"
   ]
  },
  {
   "cell_type": "code",
   "execution_count": 7,
   "metadata": {},
   "outputs": [],
   "source": [
    "options = Options()\n",
    "options.add_argument(\"--headless\")  # ヘッドレスモードで実行\n",
    "options.add_argument(\"--no-sandbox\")  # サンドボックスモードを無効化\n",
    "options.add_argument(\"--disable-gpu\")  # GPUの使用を無効化\n",
    "options.add_argument(\"--disable-extensions\")  # 拡張機能を無効化\n",
    "# ディスクキャッシュを無効化 コンテナ起動の場合は必須\n",
    "options.add_argument(\"--disable-dev-shm-usage\")"
   ]
  },
  {
   "cell_type": "code",
   "execution_count": 8,
   "metadata": {},
   "outputs": [
    {
     "data": {
      "text/plain": [
       "<selenium.webdriver.chrome.webdriver.WebDriver (session=\"6eeb372de1917351ec946d47affdc291\")>"
      ]
     },
     "execution_count": 8,
     "metadata": {},
     "output_type": "execute_result"
    }
   ],
   "source": [
    "driver = webdriver.Chrome(options=options)\n",
    "driver"
   ]
  },
  {
   "cell_type": "code",
   "execution_count": 9,
   "metadata": {},
   "outputs": [
    {
     "data": {
      "text/plain": [
       "<html><head>\n",
       "<title>User Details</title>\n",
       "<style>\n",
       "        .user-details {\n",
       "            font-family: Arial, sans-serif;\n",
       "            width: 300px;\n",
       "            border: 1px solid #ddd;\n",
       "            padding: 10px;\n",
       "            margin-top: 20px;\n",
       "        }\n",
       "\n",
       "        .user-detail {\n",
       "            margin-bottom: 10px;\n",
       "        }\n",
       "\n",
       "        .user-detail span.label {\n",
       "            font-weight: bold;\n",
       "        }\n",
       "\n",
       "        .user-detail span.value {\n",
       "            margin-left: 10px;\n",
       "        }\n",
       "    </style>\n",
       "</head>\n",
       "<body>\n",
       "<h1>User Details</h1>\n",
       "<div class=\"user-details\">\n",
       "<div class=\"user-detail\">\n",
       "<span class=\"label\">ID:</span>\n",
       "<span class=\"value\">1</span>\n",
       "</div>\n",
       "<div class=\"user-detail\">\n",
       "<span class=\"label\">Name:</span>\n",
       "<span class=\"value\">User 1</span>\n",
       "</div>\n",
       "<div class=\"user-detail\">\n",
       "<span class=\"label\">Age:</span>\n",
       "<span class=\"value\">25</span>\n",
       "</div>\n",
       "</div>\n",
       "</body></html>"
      ]
     },
     "execution_count": 9,
     "metadata": {},
     "output_type": "execute_result"
    }
   ],
   "source": [
    "detail_html = driver.get(\"https://yamap55.github.io/python_scraping_template/user/user1.html\")\n",
    "soup2 = BeautifulSoup(driver.page_source, \"html.parser\")\n",
    "soup2\n"
   ]
  },
  {
   "cell_type": "code",
   "execution_count": 10,
   "metadata": {},
   "outputs": [
    {
     "data": {
      "text/plain": [
       "('1', 'User 1', '25')"
      ]
     },
     "execution_count": 10,
     "metadata": {},
     "output_type": "execute_result"
    }
   ],
   "source": [
    "user_details = soup2.find(\"div\", class_=\"user-details\")\n",
    "user_data_list = user_details.find_all(\"span\", class_=\"value\") # type: ignore\n",
    "[user_id, user_name, user_age] = [value.text for value in user_data_list]\n",
    "user_id, user_name, user_age"
   ]
  }
 ],
 "metadata": {
  "kernelspec": {
   "display_name": ".venv",
   "language": "python",
   "name": "python3"
  },
  "language_info": {
   "codemirror_mode": {
    "name": "ipython",
    "version": 3
   },
   "file_extension": ".py",
   "mimetype": "text/x-python",
   "name": "python",
   "nbconvert_exporter": "python",
   "pygments_lexer": "ipython3",
   "version": "3.12.5"
  }
 },
 "nbformat": 4,
 "nbformat_minor": 2
}
